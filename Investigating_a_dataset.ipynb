{
 "cells": [
  {
   "cell_type": "markdown",
   "metadata": {},
   "source": [
    "# Project 3: Investigate a data set: TMDB movie dataset"
   ]
  },
  {
   "cell_type": "markdown",
   "metadata": {},
   "source": [
    "### Data Description:\n",
    "\n",
    "This data set contains information about 10k+ movies collected from The Movie Database (TMDb), including user ratings, revenue and \n",
    "budget.\n",
    "\n",
    "* The data set has 21 movie attributes and 10866 rows (excluding header).\n",
    "<br>\n",
    "* Certain columns, like ‘cast’ and ‘genres’, contain multiple values separated by pipe (|) characters.\n",
    "<br>\n",
    "* The final two columns ending with “_adj” show the budget and revenue of the associated movie in terms of 2010 dollars, accounting for inflation over time.\n",
    "<br>\n",
    "\n",
    "### Questions which I'm planning to explore in this analysis:\n",
    "Q1) What is the average runtime of movies over the years?\n",
    "<br>\n",
    "Q2) Which genres are most popular ?\n",
    "<br>\n",
    "Q3) Which actors acted often over the years?\n",
    "<br>\n",
    "Q4) How budget of movies changes over the years ?\n",
    "<br>\n",
    "Q5) How profit of movies changes over the years ?\n",
    "<br>\n",
    "Q6) What is the genre of profitable movies ? Which actors & director frequently acted & directed most profitable movies?"
   ]
  },
  {
   "cell_type": "markdown",
   "metadata": {},
   "source": [
    "First step is to import packages which I am expecting to use for this project."
   ]
  },
  {
   "cell_type": "code",
   "execution_count": 1,
   "metadata": {},
   "outputs": [],
   "source": [
    "import pandas as pd\n",
    "import numpy as np\n",
    "import csv\n",
    "import matplotlib.pyplot as plt"
   ]
  },
  {
   "cell_type": "code",
   "execution_count": 2,
   "metadata": {},
   "outputs": [
    {
     "name": "stdout",
     "output_type": "stream",
     "text": [
      "<class 'pandas.core.frame.DataFrame'>\n",
      "RangeIndex: 10866 entries, 0 to 10865\n",
      "Data columns (total 21 columns):\n",
      "id                      10866 non-null int64\n",
      "imdb_id                 10856 non-null object\n",
      "popularity              10866 non-null float64\n",
      "budget                  10866 non-null int64\n",
      "revenue                 10866 non-null int64\n",
      "original_title          10866 non-null object\n",
      "cast                    10790 non-null object\n",
      "homepage                2936 non-null object\n",
      "director                10822 non-null object\n",
      "tagline                 8042 non-null object\n",
      "keywords                9373 non-null object\n",
      "overview                10862 non-null object\n",
      "runtime                 10866 non-null int64\n",
      "genres                  10843 non-null object\n",
      "production_companies    9836 non-null object\n",
      "release_date            10866 non-null object\n",
      "vote_count              10866 non-null int64\n",
      "vote_average            10866 non-null float64\n",
      "release_year            10866 non-null int64\n",
      "budget_adj              10866 non-null float64\n",
      "revenue_adj             10866 non-null float64\n",
      "dtypes: float64(4), int64(6), object(11)\n",
      "memory usage: 1.7+ MB\n"
     ]
    }
   ],
   "source": [
    "# reading dataset \n",
    "tmdb = pd.read_csv ('tmdb-movies.csv')\n",
    "tmdb.info()"
   ]
  },
  {
   "cell_type": "markdown",
   "metadata": {},
   "source": [
    " ### Data Cleaning \n",
    " 1) Delete duplicate records from the dataset\n",
    "<br>\n",
    " 2) Dropping records where imdb_id is NULL\n",
    "<br> \n",
    "3) Keeping columns which are required for analysis\n",
    "<br>    \n",
    "\n",
    "The rest of the data cleaning and wrangling steps we are going to perform when we individually look into different problems."
   ]
  },
  {
   "cell_type": "code",
   "execution_count": 3,
   "metadata": {},
   "outputs": [
    {
     "data": {
      "text/plain": [
       "1"
      ]
     },
     "execution_count": 3,
     "metadata": {},
     "output_type": "execute_result"
    }
   ],
   "source": [
    "#checking for duplicate records\n",
    "sum(tmdb.duplicated())"
   ]
  },
  {
   "cell_type": "code",
   "execution_count": 4,
   "metadata": {},
   "outputs": [
    {
     "name": "stdout",
     "output_type": "stream",
     "text": [
      "<class 'pandas.core.frame.DataFrame'>\n",
      "Int64Index: 10865 entries, 0 to 10865\n",
      "Data columns (total 21 columns):\n",
      "id                      10865 non-null int64\n",
      "imdb_id                 10855 non-null object\n",
      "popularity              10865 non-null float64\n",
      "budget                  10865 non-null int64\n",
      "revenue                 10865 non-null int64\n",
      "original_title          10865 non-null object\n",
      "cast                    10789 non-null object\n",
      "homepage                2936 non-null object\n",
      "director                10821 non-null object\n",
      "tagline                 8041 non-null object\n",
      "keywords                9372 non-null object\n",
      "overview                10861 non-null object\n",
      "runtime                 10865 non-null int64\n",
      "genres                  10842 non-null object\n",
      "production_companies    9835 non-null object\n",
      "release_date            10865 non-null object\n",
      "vote_count              10865 non-null int64\n",
      "vote_average            10865 non-null float64\n",
      "release_year            10865 non-null int64\n",
      "budget_adj              10865 non-null float64\n",
      "revenue_adj             10865 non-null float64\n",
      "dtypes: float64(4), int64(6), object(11)\n",
      "memory usage: 1.8+ MB\n"
     ]
    }
   ],
   "source": [
    "#removing duplicate row\n",
    "tmdb.drop_duplicates(inplace=True)\n",
    "tmdb.info()"
   ]
  },
  {
   "cell_type": "code",
   "execution_count": 5,
   "metadata": {},
   "outputs": [
    {
     "data": {
      "text/plain": [
       "id                         0\n",
       "imdb_id                   10\n",
       "popularity                 0\n",
       "budget                     0\n",
       "revenue                    0\n",
       "original_title             0\n",
       "cast                      76\n",
       "homepage                7929\n",
       "director                  44\n",
       "tagline                 2824\n",
       "keywords                1493\n",
       "overview                   4\n",
       "runtime                    0\n",
       "genres                    23\n",
       "production_companies    1030\n",
       "release_date               0\n",
       "vote_count                 0\n",
       "vote_average               0\n",
       "release_year               0\n",
       "budget_adj                 0\n",
       "revenue_adj                0\n",
       "dtype: int64"
      ]
     },
     "execution_count": 5,
     "metadata": {},
     "output_type": "execute_result"
    }
   ],
   "source": [
    "#checking null values in other columns\n",
    "tmdb.isnull().sum()"
   ]
  },
  {
   "cell_type": "code",
   "execution_count": 6,
   "metadata": {},
   "outputs": [
    {
     "name": "stdout",
     "output_type": "stream",
     "text": [
      "After cleaning, we now have only 10854 entries of movies.\n"
     ]
    }
   ],
   "source": [
    "# to drop records where we have null imdb_id\n",
    "tmdb.dropna(subset=['imdb_id'], inplace=True)\n",
    "\n",
    "rows, col = tmdb.shape\n",
    "print('After cleaning, we now have only {} entries of movies.'.format(rows-1))"
   ]
  },
  {
   "cell_type": "code",
   "execution_count": 7,
   "metadata": {
    "scrolled": true
   },
   "outputs": [
    {
     "name": "stdout",
     "output_type": "stream",
     "text": [
      "After cleaning, we now have only 10833 entries of movies.\n"
     ]
    },
    {
     "data": {
      "text/html": [
       "<div>\n",
       "<style>\n",
       "    .dataframe thead tr:only-child th {\n",
       "        text-align: right;\n",
       "    }\n",
       "\n",
       "    .dataframe thead th {\n",
       "        text-align: left;\n",
       "    }\n",
       "\n",
       "    .dataframe tbody tr th {\n",
       "        vertical-align: top;\n",
       "    }\n",
       "</style>\n",
       "<table border=\"1\" class=\"dataframe\">\n",
       "  <thead>\n",
       "    <tr style=\"text-align: right;\">\n",
       "      <th></th>\n",
       "      <th>budget</th>\n",
       "      <th>revenue</th>\n",
       "      <th>original_title</th>\n",
       "      <th>cast</th>\n",
       "      <th>director</th>\n",
       "      <th>tagline</th>\n",
       "      <th>runtime</th>\n",
       "      <th>genres</th>\n",
       "      <th>release_date</th>\n",
       "      <th>release_year</th>\n",
       "      <th>budget_adj</th>\n",
       "      <th>revenue_adj</th>\n",
       "    </tr>\n",
       "  </thead>\n",
       "  <tbody>\n",
       "    <tr>\n",
       "      <th>0</th>\n",
       "      <td>150000000</td>\n",
       "      <td>1513528810</td>\n",
       "      <td>Jurassic World</td>\n",
       "      <td>Chris Pratt|Bryce Dallas Howard|Irrfan Khan|Vi...</td>\n",
       "      <td>Colin Trevorrow</td>\n",
       "      <td>The park is open.</td>\n",
       "      <td>124</td>\n",
       "      <td>Action|Adventure|Science Fiction|Thriller</td>\n",
       "      <td>6/9/15</td>\n",
       "      <td>2015</td>\n",
       "      <td>1.379999e+08</td>\n",
       "      <td>1.392446e+09</td>\n",
       "    </tr>\n",
       "    <tr>\n",
       "      <th>1</th>\n",
       "      <td>150000000</td>\n",
       "      <td>378436354</td>\n",
       "      <td>Mad Max: Fury Road</td>\n",
       "      <td>Tom Hardy|Charlize Theron|Hugh Keays-Byrne|Nic...</td>\n",
       "      <td>George Miller</td>\n",
       "      <td>What a Lovely Day.</td>\n",
       "      <td>120</td>\n",
       "      <td>Action|Adventure|Science Fiction|Thriller</td>\n",
       "      <td>5/13/15</td>\n",
       "      <td>2015</td>\n",
       "      <td>1.379999e+08</td>\n",
       "      <td>3.481613e+08</td>\n",
       "    </tr>\n",
       "    <tr>\n",
       "      <th>2</th>\n",
       "      <td>110000000</td>\n",
       "      <td>295238201</td>\n",
       "      <td>Insurgent</td>\n",
       "      <td>Shailene Woodley|Theo James|Kate Winslet|Ansel...</td>\n",
       "      <td>Robert Schwentke</td>\n",
       "      <td>One Choice Can Destroy You</td>\n",
       "      <td>119</td>\n",
       "      <td>Adventure|Science Fiction|Thriller</td>\n",
       "      <td>3/18/15</td>\n",
       "      <td>2015</td>\n",
       "      <td>1.012000e+08</td>\n",
       "      <td>2.716190e+08</td>\n",
       "    </tr>\n",
       "    <tr>\n",
       "      <th>3</th>\n",
       "      <td>200000000</td>\n",
       "      <td>2068178225</td>\n",
       "      <td>Star Wars: The Force Awakens</td>\n",
       "      <td>Harrison Ford|Mark Hamill|Carrie Fisher|Adam D...</td>\n",
       "      <td>J.J. Abrams</td>\n",
       "      <td>Every generation has a story.</td>\n",
       "      <td>136</td>\n",
       "      <td>Action|Adventure|Science Fiction|Fantasy</td>\n",
       "      <td>12/15/15</td>\n",
       "      <td>2015</td>\n",
       "      <td>1.839999e+08</td>\n",
       "      <td>1.902723e+09</td>\n",
       "    </tr>\n",
       "    <tr>\n",
       "      <th>4</th>\n",
       "      <td>190000000</td>\n",
       "      <td>1506249360</td>\n",
       "      <td>Furious 7</td>\n",
       "      <td>Vin Diesel|Paul Walker|Jason Statham|Michelle ...</td>\n",
       "      <td>James Wan</td>\n",
       "      <td>Vengeance Hits Home</td>\n",
       "      <td>137</td>\n",
       "      <td>Action|Crime|Thriller</td>\n",
       "      <td>4/1/15</td>\n",
       "      <td>2015</td>\n",
       "      <td>1.747999e+08</td>\n",
       "      <td>1.385749e+09</td>\n",
       "    </tr>\n",
       "    <tr>\n",
       "      <th>5</th>\n",
       "      <td>135000000</td>\n",
       "      <td>532950503</td>\n",
       "      <td>The Revenant</td>\n",
       "      <td>Leonardo DiCaprio|Tom Hardy|Will Poulter|Domhn...</td>\n",
       "      <td>Alejandro GonzÃ¡lez IÃ±Ã¡rritu</td>\n",
       "      <td>(n. One who has returned, as if from the dead.)</td>\n",
       "      <td>156</td>\n",
       "      <td>Western|Drama|Adventure|Thriller</td>\n",
       "      <td>12/25/15</td>\n",
       "      <td>2015</td>\n",
       "      <td>1.241999e+08</td>\n",
       "      <td>4.903142e+08</td>\n",
       "    </tr>\n",
       "  </tbody>\n",
       "</table>\n",
       "</div>"
      ],
      "text/plain": [
       "      budget     revenue                original_title  \\\n",
       "0  150000000  1513528810                Jurassic World   \n",
       "1  150000000   378436354            Mad Max: Fury Road   \n",
       "2  110000000   295238201                     Insurgent   \n",
       "3  200000000  2068178225  Star Wars: The Force Awakens   \n",
       "4  190000000  1506249360                     Furious 7   \n",
       "5  135000000   532950503                  The Revenant   \n",
       "\n",
       "                                                cast  \\\n",
       "0  Chris Pratt|Bryce Dallas Howard|Irrfan Khan|Vi...   \n",
       "1  Tom Hardy|Charlize Theron|Hugh Keays-Byrne|Nic...   \n",
       "2  Shailene Woodley|Theo James|Kate Winslet|Ansel...   \n",
       "3  Harrison Ford|Mark Hamill|Carrie Fisher|Adam D...   \n",
       "4  Vin Diesel|Paul Walker|Jason Statham|Michelle ...   \n",
       "5  Leonardo DiCaprio|Tom Hardy|Will Poulter|Domhn...   \n",
       "\n",
       "                         director  \\\n",
       "0                 Colin Trevorrow   \n",
       "1                   George Miller   \n",
       "2                Robert Schwentke   \n",
       "3                     J.J. Abrams   \n",
       "4                       James Wan   \n",
       "5  Alejandro GonzÃ¡lez IÃ±Ã¡rritu   \n",
       "\n",
       "                                           tagline  runtime  \\\n",
       "0                                The park is open.      124   \n",
       "1                               What a Lovely Day.      120   \n",
       "2                       One Choice Can Destroy You      119   \n",
       "3                    Every generation has a story.      136   \n",
       "4                              Vengeance Hits Home      137   \n",
       "5  (n. One who has returned, as if from the dead.)      156   \n",
       "\n",
       "                                      genres release_date  release_year  \\\n",
       "0  Action|Adventure|Science Fiction|Thriller       6/9/15          2015   \n",
       "1  Action|Adventure|Science Fiction|Thriller      5/13/15          2015   \n",
       "2         Adventure|Science Fiction|Thriller      3/18/15          2015   \n",
       "3   Action|Adventure|Science Fiction|Fantasy     12/15/15          2015   \n",
       "4                      Action|Crime|Thriller       4/1/15          2015   \n",
       "5           Western|Drama|Adventure|Thriller     12/25/15          2015   \n",
       "\n",
       "     budget_adj   revenue_adj  \n",
       "0  1.379999e+08  1.392446e+09  \n",
       "1  1.379999e+08  3.481613e+08  \n",
       "2  1.012000e+08  2.716190e+08  \n",
       "3  1.839999e+08  1.902723e+09  \n",
       "4  1.747999e+08  1.385749e+09  \n",
       "5  1.241999e+08  4.903142e+08  "
      ]
     },
     "execution_count": 7,
     "metadata": {},
     "output_type": "execute_result"
    }
   ],
   "source": [
    "#keeping columns which are required for analysis\n",
    "del_col = [ 'id', 'imdb_id', 'popularity','homepage', 'keywords', 'overview', 'production_companies', 'vote_count', 'vote_average']\n",
    "\n",
    " #deleting the columns from the dataset\n",
    "tmdb_data = tmdb.drop(del_col,1)\n",
    "tmdb_data.dropna(subset=['genres'], inplace=True)\n",
    "\n",
    "rows, col = tmdb_data.shape\n",
    "print('After cleaning, we now have only {} entries of movies.'.format(rows-1))\n",
    "\n",
    "tmdb_data.head(6)"
   ]
  },
  {
   "cell_type": "markdown",
   "metadata": {},
   "source": [
    "# Data Exploration\n",
    "\n",
    "#### Q1) What is the average runtime over the years?\n",
    "\n",
    "Before we try to answer this question. First we need to exclude movies from our analysis which has runtime of 0 mins."
   ]
  },
  {
   "cell_type": "code",
   "execution_count": 8,
   "metadata": {},
   "outputs": [
    {
     "name": "stdout",
     "output_type": "stream",
     "text": [
      "After cleaning, we now have only 10803 entries of movies.\n"
     ]
    }
   ],
   "source": [
    "check_row = ['runtime']\n",
    "\n",
    "#to replace 0 with NaN\n",
    "tmdb_data[check_row] = tmdb_data[check_row].replace(0, np.NaN)\n",
    "\n",
    "#to drop rows which has NaN\n",
    "tmdb_data.dropna(subset = check_row, inplace = True)\n",
    "\n",
    "rows, col = tmdb_data.shape\n",
    "print('After cleaning, we now have only {} entries of movies.'.format(rows-1))"
   ]
  },
  {
   "cell_type": "code",
   "execution_count": 9,
   "metadata": {},
   "outputs": [
    {
     "data": {
      "image/png": "[encoded data removed]",
      "text/plain": [
       "<matplotlib.figure.Figure at 0x176c51de8d0>"
      ]
     },
     "metadata": {},
     "output_type": "display_data"
    }
   ],
   "source": [
    "#giving the figure size(width, height)\n",
    "plt.figure(figsize=(9,6), dpi = 100)\n",
    "plt.xlabel('Runtime of Movies')\n",
    "plt.ylabel('Number of Movies')\n",
    "plt.title('Runtime distribution of all the movies', fontsize=18)\n",
    "bins = np.arange(0,200,2)\n",
    "#giving a histogram plot\n",
    "plt.hist(tmdb_data['runtime'],bins)\n",
    "#displays the plot\n",
    "plt.show()"
   ]
  },
  {
   "cell_type": "markdown",
   "metadata": {},
   "source": [
    "We can infer from this histogram, the majority of movies have runtimes between 90 and 110 mins. "
   ]
  },
  {
   "cell_type": "code",
   "execution_count": 10,
   "metadata": {},
   "outputs": [
    {
     "data": {
      "text/plain": [
       "count    10804.000000\n",
       "mean       102.446409\n",
       "std         30.840781\n",
       "min          2.000000\n",
       "25%         90.000000\n",
       "50%         99.000000\n",
       "75%        112.000000\n",
       "max        900.000000\n",
       "Name: runtime, dtype: float64"
      ]
     },
     "execution_count": 10,
     "metadata": {},
     "output_type": "execute_result"
    }
   ],
   "source": [
    "tmdb_data['runtime'].describe()"
   ]
  },
  {
   "cell_type": "markdown",
   "metadata": {},
   "source": [
    "By looking at the both the histogram and descriptive statistics of the runtime, it is clear that average runtime is 102 mins and median runtime value is 99 mins."
   ]
  },
  {
   "cell_type": "markdown",
   "metadata": {},
   "source": [
    "#### Q2) Which genres are most popular ?\n",
    "\n",
    "Before we try to answer this question, first we need to remove movies from our dataset where genres is NULL."
   ]
  },
  {
   "cell_type": "code",
   "execution_count": 11,
   "metadata": {},
   "outputs": [
    {
     "name": "stdout",
     "output_type": "stream",
     "text": [
      "After cleaning, we now have only 10803 entries of movies.\n"
     ]
    }
   ],
   "source": [
    "tmdb_data.dropna(subset=['genres'], inplace=True)\n",
    "\n",
    "rows, col = tmdb_data.shape\n",
    "print('After cleaning, we now have only {} entries of movies.'.format(rows-1))"
   ]
  },
  {
   "cell_type": "code",
   "execution_count": 12,
   "metadata": {},
   "outputs": [
    {
     "data": {
      "text/plain": [
       "<matplotlib.text.Text at 0x176c3f55518>"
      ]
     },
     "execution_count": 12,
     "metadata": {},
     "output_type": "execute_result"
    },
    {
     "data": {
      "image/png": "[encoded data removed]",
      "text/plain": [
       "<matplotlib.figure.Figure at 0x176c3610a58>"
      ]
     },
     "metadata": {},
     "output_type": "display_data"
    }
   ],
   "source": [
    "#extracting different genres and adding it in the data  \n",
    "list_genres = tmdb_data['genres'].str.cat(sep=\"|\").split(\"|\")\n",
    "list_genres = pd.Series(list_genres).value_counts(ascending=True)\n",
    "\n",
    "bar_graph = list_genres.plot.barh()\n",
    "bar_graph.set_title(\"Most Popular Genres\", fontsize=18, fontweight='bold')\n",
    "bar_graph.set_xlabel(\"Number of Movies\", fontsize=14)\n",
    "bar_graph.set_ylabel(\"Name of Genres\", fontsize=14)"
   ]
  },
  {
   "cell_type": "markdown",
   "metadata": {},
   "source": [
    "We can easily infer from this horizontal bar graph that Drama is the most common genre among movies followed by Comedy and Thriller."
   ]
  },
  {
   "cell_type": "markdown",
   "metadata": {},
   "source": [
    "#### Q3) Which actors and directors often acted and directed movies over the years?\n",
    "\n",
    "Before we look for an answer, first we need to remove movies from our dataset where cast is NULL."
   ]
  },
  {
   "cell_type": "code",
   "execution_count": 13,
   "metadata": {},
   "outputs": [
    {
     "name": "stdout",
     "output_type": "stream",
     "text": [
      "After cleaning, we now have only 10728 entries of movies.\n"
     ]
    }
   ],
   "source": [
    "tmdb_data.dropna(subset=['cast'], inplace=True)\n",
    "\n",
    "rows, col = tmdb_data.shape\n",
    "print('After cleaning, we now have only {} entries of movies.'.format(rows-1))"
   ]
  },
  {
   "cell_type": "code",
   "execution_count": 14,
   "metadata": {},
   "outputs": [
    {
     "data": {
      "text/plain": [
       "Robert De Niro       72\n",
       "Samuel L. Jackson    71\n",
       "Bruce Willis         62\n",
       "Nicolas Cage         61\n",
       "Michael Caine        53\n",
       "dtype: int64"
      ]
     },
     "execution_count": 14,
     "metadata": {},
     "output_type": "execute_result"
    }
   ],
   "source": [
    "#extracting different actors and adding it in the data  \n",
    "list_actors = tmdb_data['cast'].str.cat(sep=\"|\").split(\"|\")\n",
    "list_actors = pd.Series(list_actors).value_counts(ascending=False)\n",
    "\n",
    "list_actors.head(5)"
   ]
  },
  {
   "cell_type": "code",
   "execution_count": 15,
   "metadata": {},
   "outputs": [
    {
     "data": {
      "text/plain": [
       "Woody Allen          46\n",
       "Clint Eastwood       34\n",
       "Steven Spielberg     30\n",
       "Martin Scorsese      30\n",
       "Steven Soderbergh    23\n",
       "dtype: int64"
      ]
     },
     "execution_count": 15,
     "metadata": {},
     "output_type": "execute_result"
    }
   ],
   "source": [
    "#top 5 directors who directed profitable movies\n",
    "list_director = tmdb_data['director'].str.cat(sep=\"|\").split(\"|\")\n",
    "list_director = pd.Series(list_director).value_counts(ascending=False)\n",
    "\n",
    "list_director.head(5)"
   ]
  },
  {
   "cell_type": "markdown",
   "metadata": {},
   "source": [
    "From the above frequency table, we can confirm Robert De Niro has acted most in movies followed by Samuel Jackson and Bruce Willis.\n",
    "<br>\n",
    "Woody Allen has directed most movies during this time period followed by Clint Eastwood and Steven Spielberg."
   ]
  },
  {
   "cell_type": "markdown",
   "metadata": {},
   "source": [
    "#### Q4) How budget of movies changes over the years ?"
   ]
  },
  {
   "cell_type": "code",
   "execution_count": 16,
   "metadata": {},
   "outputs": [
    {
     "data": {
      "text/html": [
       "<div>\n",
       "<style>\n",
       "    .dataframe thead tr:only-child th {\n",
       "        text-align: right;\n",
       "    }\n",
       "\n",
       "    .dataframe thead th {\n",
       "        text-align: left;\n",
       "    }\n",
       "\n",
       "    .dataframe tbody tr th {\n",
       "        vertical-align: top;\n",
       "    }\n",
       "</style>\n",
       "<table border=\"1\" class=\"dataframe\">\n",
       "  <thead>\n",
       "    <tr style=\"text-align: right;\">\n",
       "      <th></th>\n",
       "      <th>release_year</th>\n",
       "      <th>budget</th>\n",
       "      <th>revenue</th>\n",
       "      <th>runtime</th>\n",
       "      <th>budget_adj</th>\n",
       "      <th>revenue_adj</th>\n",
       "    </tr>\n",
       "  </thead>\n",
       "  <tbody>\n",
       "    <tr>\n",
       "      <th>0</th>\n",
       "      <td>1960</td>\n",
       "      <td>6.892796e+05</td>\n",
       "      <td>4.531406e+06</td>\n",
       "      <td>110.656250</td>\n",
       "      <td>5.082036e+06</td>\n",
       "      <td>3.340991e+07</td>\n",
       "    </tr>\n",
       "    <tr>\n",
       "      <th>1</th>\n",
       "      <td>1961</td>\n",
       "      <td>1.488290e+06</td>\n",
       "      <td>1.089420e+07</td>\n",
       "      <td>119.419355</td>\n",
       "      <td>1.085687e+07</td>\n",
       "      <td>7.947167e+07</td>\n",
       "    </tr>\n",
       "    <tr>\n",
       "      <th>2</th>\n",
       "      <td>1962</td>\n",
       "      <td>1.710066e+06</td>\n",
       "      <td>6.736870e+06</td>\n",
       "      <td>124.343750</td>\n",
       "      <td>1.232693e+07</td>\n",
       "      <td>4.856238e+07</td>\n",
       "    </tr>\n",
       "    <tr>\n",
       "      <th>3</th>\n",
       "      <td>1963</td>\n",
       "      <td>2.156809e+06</td>\n",
       "      <td>5.511911e+06</td>\n",
       "      <td>111.323529</td>\n",
       "      <td>1.535687e+07</td>\n",
       "      <td>3.924580e+07</td>\n",
       "    </tr>\n",
       "    <tr>\n",
       "      <th>4</th>\n",
       "      <td>1964</td>\n",
       "      <td>9.400753e+05</td>\n",
       "      <td>8.118614e+06</td>\n",
       "      <td>109.214286</td>\n",
       "      <td>6.608980e+06</td>\n",
       "      <td>5.707603e+07</td>\n",
       "    </tr>\n",
       "  </tbody>\n",
       "</table>\n",
       "</div>"
      ],
      "text/plain": [
       "   release_year        budget       revenue     runtime    budget_adj  \\\n",
       "0          1960  6.892796e+05  4.531406e+06  110.656250  5.082036e+06   \n",
       "1          1961  1.488290e+06  1.089420e+07  119.419355  1.085687e+07   \n",
       "2          1962  1.710066e+06  6.736870e+06  124.343750  1.232693e+07   \n",
       "3          1963  2.156809e+06  5.511911e+06  111.323529  1.535687e+07   \n",
       "4          1964  9.400753e+05  8.118614e+06  109.214286  6.608980e+06   \n",
       "\n",
       "    revenue_adj  \n",
       "0  3.340991e+07  \n",
       "1  7.947167e+07  \n",
       "2  4.856238e+07  \n",
       "3  3.924580e+07  \n",
       "4  5.707603e+07  "
      ]
     },
     "execution_count": 16,
     "metadata": {},
     "output_type": "execute_result"
    }
   ],
   "source": [
    "#group the dataset according to release year\n",
    "movie_data = tmdb_data.groupby(['release_year'],as_index=False).mean()\n",
    "movie_data.head()"
   ]
  },
  {
   "cell_type": "code",
   "execution_count": 17,
   "metadata": {},
   "outputs": [
    {
     "data": {
      "image/png": "[encoded data removed]",
      "text/plain": [
       "<matplotlib.figure.Figure at 0x176c3b38cf8>"
      ]
     },
     "metadata": {},
     "output_type": "display_data"
    }
   ],
   "source": [
    "fig = plt.bar(movie_data[\"release_year\"], movie_data[\"budget_adj\"])\n",
    "\n",
    "plt.title('Budget over the years', fontsize=18)\n",
    "plt.xlabel('Years', fontsize=16)\n",
    "plt.ylabel('Budget', fontsize=16)\n",
    "plt.legend(fig, ['Budget'], loc = \"upper left\")\n",
    "plt.show()"
   ]
  },
  {
   "cell_type": "markdown",
   "metadata": {},
   "source": [
    "I've used budget_adj instead of budget in the analysis, as it is adjusted for inflation.  We can see from bar plot, the average adjusted budget of movies has approximately increased from 1960 to 2000 and then decreased."
   ]
  },
  {
   "cell_type": "markdown",
   "metadata": {},
   "source": [
    "#### Q5) How profit of movies changes over the years ?"
   ]
  },
  {
   "cell_type": "code",
   "execution_count": 18,
   "metadata": {},
   "outputs": [
    {
     "data": {
      "text/html": [
       "<div>\n",
       "<style>\n",
       "    .dataframe thead tr:only-child th {\n",
       "        text-align: right;\n",
       "    }\n",
       "\n",
       "    .dataframe thead th {\n",
       "        text-align: left;\n",
       "    }\n",
       "\n",
       "    .dataframe tbody tr th {\n",
       "        vertical-align: top;\n",
       "    }\n",
       "</style>\n",
       "<table border=\"1\" class=\"dataframe\">\n",
       "  <thead>\n",
       "    <tr style=\"text-align: right;\">\n",
       "      <th></th>\n",
       "      <th>release_year</th>\n",
       "      <th>budget</th>\n",
       "      <th>revenue</th>\n",
       "      <th>runtime</th>\n",
       "      <th>budget_adj</th>\n",
       "      <th>revenue_adj</th>\n",
       "      <th>profit_adj</th>\n",
       "    </tr>\n",
       "  </thead>\n",
       "  <tbody>\n",
       "    <tr>\n",
       "      <th>0</th>\n",
       "      <td>1960</td>\n",
       "      <td>6.892796e+05</td>\n",
       "      <td>4.531406e+06</td>\n",
       "      <td>110.656250</td>\n",
       "      <td>5.082036e+06</td>\n",
       "      <td>3.340991e+07</td>\n",
       "      <td>2.832787e+07</td>\n",
       "    </tr>\n",
       "    <tr>\n",
       "      <th>1</th>\n",
       "      <td>1961</td>\n",
       "      <td>1.488290e+06</td>\n",
       "      <td>1.089420e+07</td>\n",
       "      <td>119.419355</td>\n",
       "      <td>1.085687e+07</td>\n",
       "      <td>7.947167e+07</td>\n",
       "      <td>6.861480e+07</td>\n",
       "    </tr>\n",
       "  </tbody>\n",
       "</table>\n",
       "</div>"
      ],
      "text/plain": [
       "   release_year        budget       revenue     runtime    budget_adj  \\\n",
       "0          1960  6.892796e+05  4.531406e+06  110.656250  5.082036e+06   \n",
       "1          1961  1.488290e+06  1.089420e+07  119.419355  1.085687e+07   \n",
       "\n",
       "    revenue_adj    profit_adj  \n",
       "0  3.340991e+07  2.832787e+07  \n",
       "1  7.947167e+07  6.861480e+07  "
      ]
     },
     "execution_count": 18,
     "metadata": {},
     "output_type": "execute_result"
    }
   ],
   "source": [
    "#to calculate profit\n",
    "movie_data['profit_adj'] = movie_data['revenue_adj'] - movie_data['budget_adj']\n",
    "movie_data.head(2)"
   ]
  },
  {
   "cell_type": "code",
   "execution_count": 19,
   "metadata": {},
   "outputs": [
    {
     "data": {
      "image/png": "[encoded data removed]",
      "text/plain": [
       "<matplotlib.figure.Figure at 0x176c4005a90>"
      ]
     },
     "metadata": {},
     "output_type": "display_data"
    }
   ],
   "source": [
    "fig = plt.bar(movie_data[\"release_year\"], movie_data[\"profit_adj\"])\n",
    "\n",
    "plt.title('profit over the years', fontsize=18)\n",
    "plt.xlabel('Years', fontsize=16)\n",
    "plt.ylabel('Avg Profit ', fontsize=16)\n",
    "plt.legend(fig, ['Profit'], loc = \"upper left\")\n",
    "plt.show()"
   ]
  },
  {
   "cell_type": "markdown",
   "metadata": {},
   "source": [
    "Average adjusted profit made by movies has intially increased from 1960 to 1980 and then decreased."
   ]
  },
  {
   "cell_type": "markdown",
   "metadata": {},
   "source": [
    "#### Q6) What is the genre of profitable movies ? Which actors & director frequently acted & directed most profitable movies?"
   ]
  },
  {
   "cell_type": "code",
   "execution_count": 20,
   "metadata": {},
   "outputs": [
    {
     "name": "stdout",
     "output_type": "stream",
     "text": [
      "3770 movies have made profit over these years.\n"
     ]
    }
   ],
   "source": [
    "#to calculate profit\n",
    "tmdb_data['profit_adj'] = tmdb_data['revenue_adj'] - tmdb_data['budget_adj']\n",
    "\n",
    "profitable_movies = tmdb_data.query('profit_adj > 0')\n",
    "rows, col = profitable_movies.shape\n",
    "print('{} movies have made profit over these years.'.format(rows-1))"
   ]
  },
  {
   "cell_type": "code",
   "execution_count": 21,
   "metadata": {},
   "outputs": [
    {
     "data": {
      "text/plain": [
       "Drama       1690\n",
       "Comedy      1423\n",
       "Thriller    1058\n",
       "Action       963\n",
       "Romance      684\n",
       "dtype: int64"
      ]
     },
     "execution_count": 21,
     "metadata": {},
     "output_type": "execute_result"
    }
   ],
   "source": [
    "#top 5 genres of profitable movies\n",
    "list_profit_genres = profitable_movies['genres'].str.cat(sep=\"|\").split(\"|\")\n",
    "list_profit_genres = pd.Series(list_profit_genres).value_counts(ascending=False)\n",
    "\n",
    "list_profit_genres.head(5)"
   ]
  },
  {
   "cell_type": "code",
   "execution_count": 22,
   "metadata": {},
   "outputs": [
    {
     "data": {
      "text/plain": [
       "Robert De Niro       46\n",
       "Tom Hanks            36\n",
       "Morgan Freeman       36\n",
       "Bruce Willis         35\n",
       "Samuel L. Jackson    34\n",
       "dtype: int64"
      ]
     },
     "execution_count": 22,
     "metadata": {},
     "output_type": "execute_result"
    }
   ],
   "source": [
    "#top 5 actors who acted in profitable movies\n",
    "list_profit_cast = profitable_movies['cast'].str.cat(sep=\"|\").split(\"|\")\n",
    "list_profit_cast = pd.Series(list_profit_cast).value_counts(ascending=False)\n",
    "\n",
    "list_profit_cast.head(5)"
   ]
  },
  {
   "cell_type": "code",
   "execution_count": 23,
   "metadata": {},
   "outputs": [
    {
     "data": {
      "text/plain": [
       "Steven Spielberg    27\n",
       "Clint Eastwood      23\n",
       "Ridley Scott        17\n",
       "Woody Allen         17\n",
       "Ron Howard          16\n",
       "dtype: int64"
      ]
     },
     "execution_count": 23,
     "metadata": {},
     "output_type": "execute_result"
    }
   ],
   "source": [
    "#top 5 directors who directed profitable movies\n",
    "list_profit_director = profitable_movies['director'].str.cat(sep=\"|\").split(\"|\")\n",
    "list_profit_director = pd.Series(list_profit_director).value_counts(ascending=False)\n",
    "\n",
    "list_profit_director.head(5)"
   ]
  },
  {
   "cell_type": "markdown",
   "metadata": {},
   "source": [
    "From above three frequency chart, we can see Drama is the most profitable genre followed by Comedy and Thriller. \n",
    "<br>\n",
    "Robert De Niro, Tom Hanks and Morgan Freeman have given most profitable movies. \n",
    "<br>\n",
    "Steven Spielberg has directed most profitable movies(27), followed by Clint Eastwood(23) and Ridley Scott(17). "
   ]
  },
  {
   "cell_type": "markdown",
   "metadata": {},
   "source": [
    "# Conclusion\n",
    "\n",
    "Drama is the most common genre among movies followed by Comedy and Thriller. Drama is the popular genre among the profitable movies as well.\n",
    "<br>\n",
    "Woddy Allen and Clint Eastwood have directed most movies, but when it comes to profitable movies Steven Spielberg directed most of them.\n",
    "<br>\n",
    "Average runtime of movies is 102 mins.\n",
    "<br> \n",
    "From the profit and the budget over the time we found that the average adjusted budget of movies is increasing, but adjusted average profit of movies is decreasing. \n",
    "<br>\n",
    "\n",
    "Limitation of this study: \n",
    "<br>\n",
    "* Limited dataset, the dataset has data of movies which were released over a span of 50+ years. But given the quantity of data, it seems\n",
    "it is a sample of complete dataset. This sample may not be the true representative of the population.\n",
    "<br>\n",
    "* There are values in variables which doesn't make any sense. Like runtime value of 2 mins for a movie  or budget of 0 for a movie. Conclusion\n",
    "of the analysis depends on the validity of the data."
   ]
  },
  {
   "cell_type": "code",
   "execution_count": null,
   "metadata": {},
   "outputs": [],
   "source": [
    ""
   ]
  }
 ],
 "metadata": {
  "kernelspec": {
   "display_name": "Python [conda env:Anaconda3]",
   "language": "python",
   "name": "conda-env-Anaconda3-py"
  },
  "language_info": {
   "codemirror_mode": {
    "name": "ipython",
    "version": 3.0
   },
   "file_extension": ".py",
   "mimetype": "text/x-python",
   "name": "python",
   "nbconvert_exporter": "python",
   "pygments_lexer": "ipython3",
   "version": "3.6.4"
  }
 },
 "nbformat": 4,
 "nbformat_minor": 0
}